{
 "cells": [
  {
   "cell_type": "code",
   "execution_count": 1,
   "metadata": {},
   "outputs": [],
   "source": [
    "import pandas as pd\n",
    "import matplotlib.pyplot as plt\n",
    "plt.style.use('dark_background')"
   ]
  },
  {
   "cell_type": "code",
   "execution_count": 2,
   "metadata": {},
   "outputs": [
    {
     "data": {
      "text/plain": [
       "(570152, 10)"
      ]
     },
     "execution_count": 2,
     "metadata": {},
     "output_type": "execute_result"
    }
   ],
   "source": [
    "train_df = pd.read_json('data/snli_1.0_train.jsonl', lines=True)\n",
    "test_df = pd.read_json('data/snli_1.0_test.jsonl', lines=True)\n",
    "dev_df = pd.read_json('data/snli_1.0_dev.jsonl', lines=True)\n",
    "\n",
    "df = pd.concat((train_df, test_df, dev_df)).reset_index(drop=True)\n",
    "df.shape"
   ]
  },
  {
   "cell_type": "code",
   "execution_count": 3,
   "metadata": {},
   "outputs": [
    {
     "data": {
      "text/html": [
       "<div>\n",
       "<style scoped>\n",
       "    .dataframe tbody tr th:only-of-type {\n",
       "        vertical-align: middle;\n",
       "    }\n",
       "\n",
       "    .dataframe tbody tr th {\n",
       "        vertical-align: top;\n",
       "    }\n",
       "\n",
       "    .dataframe thead th {\n",
       "        text-align: right;\n",
       "    }\n",
       "</style>\n",
       "<table border=\"1\" class=\"dataframe\">\n",
       "  <thead>\n",
       "    <tr style=\"text-align: right;\">\n",
       "      <th></th>\n",
       "      <th>annotator_labels</th>\n",
       "      <th>captionID</th>\n",
       "      <th>gold_label</th>\n",
       "      <th>pairID</th>\n",
       "      <th>sentence1</th>\n",
       "      <th>sentence1_binary_parse</th>\n",
       "      <th>sentence1_parse</th>\n",
       "      <th>sentence2</th>\n",
       "      <th>sentence2_binary_parse</th>\n",
       "      <th>sentence2_parse</th>\n",
       "    </tr>\n",
       "  </thead>\n",
       "  <tbody>\n",
       "    <tr>\n",
       "      <th>0</th>\n",
       "      <td>[neutral]</td>\n",
       "      <td>3416050480.jpg#4</td>\n",
       "      <td>neutral</td>\n",
       "      <td>3416050480.jpg#4r1n</td>\n",
       "      <td>A person on a horse jumps over a broken down a...</td>\n",
       "      <td>( ( ( A person ) ( on ( a horse ) ) ) ( ( jump...</td>\n",
       "      <td>(ROOT (S (NP (NP (DT A) (NN person)) (PP (IN o...</td>\n",
       "      <td>A person is training his horse for a competition.</td>\n",
       "      <td>( ( A person ) ( ( is ( ( training ( his horse...</td>\n",
       "      <td>(ROOT (S (NP (DT A) (NN person)) (VP (VBZ is) ...</td>\n",
       "    </tr>\n",
       "    <tr>\n",
       "      <th>1</th>\n",
       "      <td>[contradiction]</td>\n",
       "      <td>3416050480.jpg#4</td>\n",
       "      <td>contradiction</td>\n",
       "      <td>3416050480.jpg#4r1c</td>\n",
       "      <td>A person on a horse jumps over a broken down a...</td>\n",
       "      <td>( ( ( A person ) ( on ( a horse ) ) ) ( ( jump...</td>\n",
       "      <td>(ROOT (S (NP (NP (DT A) (NN person)) (PP (IN o...</td>\n",
       "      <td>A person is at a diner, ordering an omelette.</td>\n",
       "      <td>( ( A person ) ( ( ( ( is ( at ( a diner ) ) )...</td>\n",
       "      <td>(ROOT (S (NP (DT A) (NN person)) (VP (VBZ is) ...</td>\n",
       "    </tr>\n",
       "    <tr>\n",
       "      <th>2</th>\n",
       "      <td>[entailment]</td>\n",
       "      <td>3416050480.jpg#4</td>\n",
       "      <td>entailment</td>\n",
       "      <td>3416050480.jpg#4r1e</td>\n",
       "      <td>A person on a horse jumps over a broken down a...</td>\n",
       "      <td>( ( ( A person ) ( on ( a horse ) ) ) ( ( jump...</td>\n",
       "      <td>(ROOT (S (NP (NP (DT A) (NN person)) (PP (IN o...</td>\n",
       "      <td>A person is outdoors, on a horse.</td>\n",
       "      <td>( ( A person ) ( ( ( ( is outdoors ) , ) ( on ...</td>\n",
       "      <td>(ROOT (S (NP (DT A) (NN person)) (VP (VBZ is) ...</td>\n",
       "    </tr>\n",
       "    <tr>\n",
       "      <th>3</th>\n",
       "      <td>[neutral]</td>\n",
       "      <td>2267923837.jpg#2</td>\n",
       "      <td>neutral</td>\n",
       "      <td>2267923837.jpg#2r1n</td>\n",
       "      <td>Children smiling and waving at camera</td>\n",
       "      <td>( Children ( ( ( smiling and ) waving ) ( at c...</td>\n",
       "      <td>(ROOT (NP (S (NP (NNP Children)) (VP (VBG smil...</td>\n",
       "      <td>They are smiling at their parents</td>\n",
       "      <td>( They ( are ( smiling ( at ( their parents ) ...</td>\n",
       "      <td>(ROOT (S (NP (PRP They)) (VP (VBP are) (VP (VB...</td>\n",
       "    </tr>\n",
       "    <tr>\n",
       "      <th>4</th>\n",
       "      <td>[entailment]</td>\n",
       "      <td>2267923837.jpg#2</td>\n",
       "      <td>entailment</td>\n",
       "      <td>2267923837.jpg#2r1e</td>\n",
       "      <td>Children smiling and waving at camera</td>\n",
       "      <td>( Children ( ( ( smiling and ) waving ) ( at c...</td>\n",
       "      <td>(ROOT (NP (S (NP (NNP Children)) (VP (VBG smil...</td>\n",
       "      <td>There are children present</td>\n",
       "      <td>( There ( ( are children ) present ) )</td>\n",
       "      <td>(ROOT (S (NP (EX There)) (VP (VBP are) (NP (NN...</td>\n",
       "    </tr>\n",
       "    <tr>\n",
       "      <th>...</th>\n",
       "      <td>...</td>\n",
       "      <td>...</td>\n",
       "      <td>...</td>\n",
       "      <td>...</td>\n",
       "      <td>...</td>\n",
       "      <td>...</td>\n",
       "      <td>...</td>\n",
       "      <td>...</td>\n",
       "      <td>...</td>\n",
       "      <td>...</td>\n",
       "    </tr>\n",
       "    <tr>\n",
       "      <th>570147</th>\n",
       "      <td>[neutral, contradiction, entailment, contradic...</td>\n",
       "      <td>77063034.jpg#3</td>\n",
       "      <td>-</td>\n",
       "      <td>77063034.jpg#3r1n</td>\n",
       "      <td>A small girl wearing a pink jacket is riding o...</td>\n",
       "      <td>( ( ( A ( small girl ) ) ( wearing ( a ( pink ...</td>\n",
       "      <td>(ROOT (S (NP (NP (DT A) (JJ small) (NN girl)) ...</td>\n",
       "      <td>The girl is sitting on a carved horse made of ...</td>\n",
       "      <td>( ( The girl ) ( ( is ( sitting ( on ( ( a ( c...</td>\n",
       "      <td>(ROOT (S (NP (DT The) (NN girl)) (VP (VBZ is) ...</td>\n",
       "    </tr>\n",
       "    <tr>\n",
       "      <th>570148</th>\n",
       "      <td>[contradiction, contradiction, contradiction, ...</td>\n",
       "      <td>77063034.jpg#3</td>\n",
       "      <td>contradiction</td>\n",
       "      <td>77063034.jpg#3r1c</td>\n",
       "      <td>A small girl wearing a pink jacket is riding o...</td>\n",
       "      <td>( ( ( A ( small girl ) ) ( wearing ( a ( pink ...</td>\n",
       "      <td>(ROOT (S (NP (NP (DT A) (JJ small) (NN girl)) ...</td>\n",
       "      <td>The girl is moving at the speed of light.</td>\n",
       "      <td>( ( The girl ) ( ( is ( moving ( at ( ( the sp...</td>\n",
       "      <td>(ROOT (S (NP (DT The) (NN girl)) (VP (VBZ is) ...</td>\n",
       "    </tr>\n",
       "    <tr>\n",
       "      <th>570149</th>\n",
       "      <td>[entailment, entailment, entailment, entailmen...</td>\n",
       "      <td>4805835848.jpg#0</td>\n",
       "      <td>entailment</td>\n",
       "      <td>4805835848.jpg#0r1e</td>\n",
       "      <td>A young girl with blue and pink ribbons in her...</td>\n",
       "      <td>( ( ( A ( young girl ) ) ( with ( ( ( ( ( ( bl...</td>\n",
       "      <td>(ROOT (NP (NP (DT A) (JJ young) (NN girl)) (PP...</td>\n",
       "      <td>People in a water fountain</td>\n",
       "      <td>( People ( in ( a ( water fountain ) ) ) )</td>\n",
       "      <td>(ROOT (NP (NP (NNS People)) (PP (IN in) (NP (D...</td>\n",
       "    </tr>\n",
       "    <tr>\n",
       "      <th>570150</th>\n",
       "      <td>[contradiction, contradiction, entailment, con...</td>\n",
       "      <td>4805835848.jpg#0</td>\n",
       "      <td>contradiction</td>\n",
       "      <td>4805835848.jpg#0r1c</td>\n",
       "      <td>A young girl with blue and pink ribbons in her...</td>\n",
       "      <td>( ( ( A ( young girl ) ) ( with ( ( ( ( ( ( bl...</td>\n",
       "      <td>(ROOT (NP (NP (DT A) (JJ young) (NN girl)) (PP...</td>\n",
       "      <td>A young girl knits a sweater</td>\n",
       "      <td>( ( ( A ( young girl ) ) knits ) ( a sweater ) )</td>\n",
       "      <td>(ROOT (NP (NP (DT A) (JJ young) (NN girl)) (NP...</td>\n",
       "    </tr>\n",
       "    <tr>\n",
       "      <th>570151</th>\n",
       "      <td>[neutral, contradiction, neutral, neutral, ent...</td>\n",
       "      <td>4805835848.jpg#0</td>\n",
       "      <td>neutral</td>\n",
       "      <td>4805835848.jpg#0r1n</td>\n",
       "      <td>A young girl with blue and pink ribbons in her...</td>\n",
       "      <td>( ( ( A ( young girl ) ) ( with ( ( ( ( ( ( bl...</td>\n",
       "      <td>(ROOT (NP (NP (DT A) (JJ young) (NN girl)) (PP...</td>\n",
       "      <td>A young mother tries to grab her topless child...</td>\n",
       "      <td>( ( A ( young mother ) ) ( tries ( to ( ( ( gr...</td>\n",
       "      <td>(ROOT (S (NP (DT A) (JJ young) (NN mother)) (V...</td>\n",
       "    </tr>\n",
       "  </tbody>\n",
       "</table>\n",
       "<p>570152 rows × 10 columns</p>\n",
       "</div>"
      ],
      "text/plain": [
       "                                         annotator_labels         captionID  \\\n",
       "0                                               [neutral]  3416050480.jpg#4   \n",
       "1                                         [contradiction]  3416050480.jpg#4   \n",
       "2                                            [entailment]  3416050480.jpg#4   \n",
       "3                                               [neutral]  2267923837.jpg#2   \n",
       "4                                            [entailment]  2267923837.jpg#2   \n",
       "...                                                   ...               ...   \n",
       "570147  [neutral, contradiction, entailment, contradic...    77063034.jpg#3   \n",
       "570148  [contradiction, contradiction, contradiction, ...    77063034.jpg#3   \n",
       "570149  [entailment, entailment, entailment, entailmen...  4805835848.jpg#0   \n",
       "570150  [contradiction, contradiction, entailment, con...  4805835848.jpg#0   \n",
       "570151  [neutral, contradiction, neutral, neutral, ent...  4805835848.jpg#0   \n",
       "\n",
       "           gold_label               pairID  \\\n",
       "0             neutral  3416050480.jpg#4r1n   \n",
       "1       contradiction  3416050480.jpg#4r1c   \n",
       "2          entailment  3416050480.jpg#4r1e   \n",
       "3             neutral  2267923837.jpg#2r1n   \n",
       "4          entailment  2267923837.jpg#2r1e   \n",
       "...               ...                  ...   \n",
       "570147              -    77063034.jpg#3r1n   \n",
       "570148  contradiction    77063034.jpg#3r1c   \n",
       "570149     entailment  4805835848.jpg#0r1e   \n",
       "570150  contradiction  4805835848.jpg#0r1c   \n",
       "570151        neutral  4805835848.jpg#0r1n   \n",
       "\n",
       "                                                sentence1  \\\n",
       "0       A person on a horse jumps over a broken down a...   \n",
       "1       A person on a horse jumps over a broken down a...   \n",
       "2       A person on a horse jumps over a broken down a...   \n",
       "3                   Children smiling and waving at camera   \n",
       "4                   Children smiling and waving at camera   \n",
       "...                                                   ...   \n",
       "570147  A small girl wearing a pink jacket is riding o...   \n",
       "570148  A small girl wearing a pink jacket is riding o...   \n",
       "570149  A young girl with blue and pink ribbons in her...   \n",
       "570150  A young girl with blue and pink ribbons in her...   \n",
       "570151  A young girl with blue and pink ribbons in her...   \n",
       "\n",
       "                                   sentence1_binary_parse  \\\n",
       "0       ( ( ( A person ) ( on ( a horse ) ) ) ( ( jump...   \n",
       "1       ( ( ( A person ) ( on ( a horse ) ) ) ( ( jump...   \n",
       "2       ( ( ( A person ) ( on ( a horse ) ) ) ( ( jump...   \n",
       "3       ( Children ( ( ( smiling and ) waving ) ( at c...   \n",
       "4       ( Children ( ( ( smiling and ) waving ) ( at c...   \n",
       "...                                                   ...   \n",
       "570147  ( ( ( A ( small girl ) ) ( wearing ( a ( pink ...   \n",
       "570148  ( ( ( A ( small girl ) ) ( wearing ( a ( pink ...   \n",
       "570149  ( ( ( A ( young girl ) ) ( with ( ( ( ( ( ( bl...   \n",
       "570150  ( ( ( A ( young girl ) ) ( with ( ( ( ( ( ( bl...   \n",
       "570151  ( ( ( A ( young girl ) ) ( with ( ( ( ( ( ( bl...   \n",
       "\n",
       "                                          sentence1_parse  \\\n",
       "0       (ROOT (S (NP (NP (DT A) (NN person)) (PP (IN o...   \n",
       "1       (ROOT (S (NP (NP (DT A) (NN person)) (PP (IN o...   \n",
       "2       (ROOT (S (NP (NP (DT A) (NN person)) (PP (IN o...   \n",
       "3       (ROOT (NP (S (NP (NNP Children)) (VP (VBG smil...   \n",
       "4       (ROOT (NP (S (NP (NNP Children)) (VP (VBG smil...   \n",
       "...                                                   ...   \n",
       "570147  (ROOT (S (NP (NP (DT A) (JJ small) (NN girl)) ...   \n",
       "570148  (ROOT (S (NP (NP (DT A) (JJ small) (NN girl)) ...   \n",
       "570149  (ROOT (NP (NP (DT A) (JJ young) (NN girl)) (PP...   \n",
       "570150  (ROOT (NP (NP (DT A) (JJ young) (NN girl)) (PP...   \n",
       "570151  (ROOT (NP (NP (DT A) (JJ young) (NN girl)) (PP...   \n",
       "\n",
       "                                                sentence2  \\\n",
       "0       A person is training his horse for a competition.   \n",
       "1           A person is at a diner, ordering an omelette.   \n",
       "2                       A person is outdoors, on a horse.   \n",
       "3                       They are smiling at their parents   \n",
       "4                              There are children present   \n",
       "...                                                   ...   \n",
       "570147  The girl is sitting on a carved horse made of ...   \n",
       "570148          The girl is moving at the speed of light.   \n",
       "570149                         People in a water fountain   \n",
       "570150                       A young girl knits a sweater   \n",
       "570151  A young mother tries to grab her topless child...   \n",
       "\n",
       "                                   sentence2_binary_parse  \\\n",
       "0       ( ( A person ) ( ( is ( ( training ( his horse...   \n",
       "1       ( ( A person ) ( ( ( ( is ( at ( a diner ) ) )...   \n",
       "2       ( ( A person ) ( ( ( ( is outdoors ) , ) ( on ...   \n",
       "3       ( They ( are ( smiling ( at ( their parents ) ...   \n",
       "4                  ( There ( ( are children ) present ) )   \n",
       "...                                                   ...   \n",
       "570147  ( ( The girl ) ( ( is ( sitting ( on ( ( a ( c...   \n",
       "570148  ( ( The girl ) ( ( is ( moving ( at ( ( the sp...   \n",
       "570149         ( People ( in ( a ( water fountain ) ) ) )   \n",
       "570150   ( ( ( A ( young girl ) ) knits ) ( a sweater ) )   \n",
       "570151  ( ( A ( young mother ) ) ( tries ( to ( ( ( gr...   \n",
       "\n",
       "                                          sentence2_parse  \n",
       "0       (ROOT (S (NP (DT A) (NN person)) (VP (VBZ is) ...  \n",
       "1       (ROOT (S (NP (DT A) (NN person)) (VP (VBZ is) ...  \n",
       "2       (ROOT (S (NP (DT A) (NN person)) (VP (VBZ is) ...  \n",
       "3       (ROOT (S (NP (PRP They)) (VP (VBP are) (VP (VB...  \n",
       "4       (ROOT (S (NP (EX There)) (VP (VBP are) (NP (NN...  \n",
       "...                                                   ...  \n",
       "570147  (ROOT (S (NP (DT The) (NN girl)) (VP (VBZ is) ...  \n",
       "570148  (ROOT (S (NP (DT The) (NN girl)) (VP (VBZ is) ...  \n",
       "570149  (ROOT (NP (NP (NNS People)) (PP (IN in) (NP (D...  \n",
       "570150  (ROOT (NP (NP (DT A) (JJ young) (NN girl)) (NP...  \n",
       "570151  (ROOT (S (NP (DT A) (JJ young) (NN mother)) (V...  \n",
       "\n",
       "[570152 rows x 10 columns]"
      ]
     },
     "execution_count": 3,
     "metadata": {},
     "output_type": "execute_result"
    }
   ],
   "source": [
    "df"
   ]
  },
  {
   "cell_type": "code",
   "execution_count": 134,
   "metadata": {},
   "outputs": [],
   "source": [
    "df.loc[df.gold_label=='-', 'gold_label'] = 'mixed'"
   ]
  },
  {
   "cell_type": "code",
   "execution_count": 142,
   "metadata": {},
   "outputs": [
    {
     "data": {
      "text/plain": [
       "Index(['annotator_labels', 'captionID', 'gold_label', 'pairID', 'sentence1',\n",
       "       'sentence1_binary_parse', 'sentence1_parse', 'sentence2',\n",
       "       'sentence2_binary_parse', 'sentence2_parse'],\n",
       "      dtype='object')"
      ]
     },
     "execution_count": 142,
     "metadata": {},
     "output_type": "execute_result"
    }
   ],
   "source": [
    "df.columns"
   ]
  },
  {
   "cell_type": "code",
   "execution_count": 147,
   "metadata": {},
   "outputs": [
    {
     "name": "stdout",
     "output_type": "stream",
     "text": [
      "(ROOT (S (NP (NP (DT A) (JJ small) (NN group)) (PP (IN of) (NP (NNS church-goers)))) (VP (VBP watch) (NP (DT a) (NN choir) (NN practice))) (. .)))\n",
      "A choir performs in front of packed crowd.\n",
      "\n",
      "['contradiction', 'contradiction', 'neutral', 'neutral']\n"
     ]
    }
   ],
   "source": [
    "s1, s2, labels = df.loc[145, ['sentence1_parse', 'sentence2', 'annotator_labels']]\n",
    "\n",
    "print(s1)\n",
    "print(s2)\n",
    "print(f\"\\n{labels}\")"
   ]
  },
  {
   "cell_type": "code",
   "execution_count": 135,
   "metadata": {},
   "outputs": [
    {
     "data": {
      "image/png": "[encoded data removed]",
      "text/plain": [
       "<Figure size 640x480 with 1 Axes>"
      ]
     },
     "metadata": {},
     "output_type": "display_data"
    }
   ],
   "source": [
    "df.gold_label.hist()\n",
    "plt.grid(False)\n",
    "plt.title(\"Label Distribution\")\n",
    "ax = plt.gca()\n",
    "ax.spines['top'].set_visible(False)\n",
    "ax.spines['right'].set_visible(False)\n",
    "\n",
    "plt.savefig(\"figs/label_distribution.jpg\")"
   ]
  },
  {
   "cell_type": "code",
   "execution_count": 140,
   "metadata": {},
   "outputs": [
    {
     "data": {
      "image/png": "[encoded data removed]",
      "text/plain": [
       "<Figure size 640x480 with 1 Axes>"
      ]
     },
     "metadata": {},
     "output_type": "display_data"
    }
   ],
   "source": [
    "df.gold_label.value_counts().plot.pie(y='sentence1', legend=False, autopct='%1.1f%%',\n",
    "                                          colors=['green', 'orange', 'blue', 'red'])\n",
    "plt.ylabel('')\n",
    "plt.title(\"Label Distribution Pie Chart\")\n",
    "\n",
    "plt.savefig('figs/label_distribution_pie.jpg')"
   ]
  },
  {
   "cell_type": "code",
   "execution_count": 73,
   "metadata": {},
   "outputs": [
    {
     "data": {
      "text/plain": [
       "550152"
      ]
     },
     "execution_count": 73,
     "metadata": {},
     "output_type": "execute_result"
    }
   ],
   "source": [
    "len(train_df)"
   ]
  },
  {
   "cell_type": "code",
   "execution_count": 83,
   "metadata": {},
   "outputs": [
    {
     "data": {
      "text/plain": [
       "20000"
      ]
     },
     "execution_count": 83,
     "metadata": {},
     "output_type": "execute_result"
    }
   ],
   "source": [
    "len(test_df) + len(dev_df)"
   ]
  },
  {
   "cell_type": "code",
   "execution_count": null,
   "metadata": {},
   "outputs": [],
   "source": [
    "test_df = pd.concat((test_df, dev_df))"
   ]
  },
  {
   "cell_type": "code",
   "execution_count": 78,
   "metadata": {},
   "outputs": [
    {
     "data": {
      "image/png": "[encoded data removed]",
      "text/plain": [
       "<Figure size 1500x500 with 2 Axes>"
      ]
     },
     "metadata": {},
     "output_type": "display_data"
    }
   ],
   "source": [
    "fig, (ax1, ax2) = plt.subplots(1, 2, figsize=(15,5))\n",
    "fig.suptitle(\"Distribution of words\")\n",
    "\n",
    "df.sentence1.apply(lambda s: len(s.split(\" \"))).hist(ax=ax1)\n",
    "df.sentence2.apply(lambda s: len(s.split(\" \"))).hist(ax=ax2)\n",
    "\n",
    "ax1.grid(False)\n",
    "ax1.set_title(\"Sentence 1\")\n",
    "ax2.grid(False)\n",
    "ax2.set_title(\"Sentence 2\")\n",
    "\n",
    "plt.savefig('figs/word_distribution.jpg')"
   ]
  }
 ],
 "metadata": {
  "kernelspec": {
   "display_name": "work_env",
   "language": "python",
   "name": "python3"
  },
  "language_info": {
   "codemirror_mode": {
    "name": "ipython",
    "version": 3
   },
   "file_extension": ".py",
   "mimetype": "text/x-python",
   "name": "python",
   "nbconvert_exporter": "python",
   "pygments_lexer": "ipython3",
   "version": "3.11.5"
  },
  "orig_nbformat": 4
 },
 "nbformat": 4,
 "nbformat_minor": 2
}
